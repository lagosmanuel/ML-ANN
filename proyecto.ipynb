{
  "cells": [
    {
      "cell_type": "markdown",
      "metadata": {
        "id": "view-in-github",
        "colab_type": "text"
      },
      "source": [
        "<a href=\"https://colab.research.google.com/github/lagosmanuel/ML-ANN/blob/main/proyecto.ipynb\" target=\"_parent\"><img src=\"https://colab.research.google.com/assets/colab-badge.svg\" alt=\"Open In Colab\"/></a>"
      ]
    },
    {
      "cell_type": "markdown",
      "metadata": {
        "id": "_MTaBZ9LN-tk"
      },
      "source": [
        "# Proyecto 2 - Inteligencia Artificial 2024 🤖\n",
        "\n",
        "### Comisión 5 - Manuel Lagos\n",
        "\n",
        "\n",
        "---\n",
        "\n"
      ]
    },
    {
      "cell_type": "markdown",
      "metadata": {
        "id": "-m0JwPV4gxpw"
      },
      "source": [
        "# Importar las librerías necesarias"
      ]
    },
    {
      "cell_type": "code",
      "execution_count": 1,
      "metadata": {
        "colab": {
          "base_uri": "https://localhost:8080/"
        },
        "id": "g9Mu6Y5egxCA",
        "outputId": "0816125a-43ae-4e0d-8d33-10e45957335f"
      },
      "outputs": [
        {
          "output_type": "stream",
          "name": "stdout",
          "text": [
            "Requirement already satisfied: scikeras in /usr/local/lib/python3.10/dist-packages (0.13.0)\n",
            "Requirement already satisfied: keras>=3.2.0 in /usr/local/lib/python3.10/dist-packages (from scikeras) (3.4.1)\n",
            "Requirement already satisfied: scikit-learn>=1.4.2 in /usr/local/lib/python3.10/dist-packages (from scikeras) (1.5.2)\n",
            "Requirement already satisfied: absl-py in /usr/local/lib/python3.10/dist-packages (from keras>=3.2.0->scikeras) (1.4.0)\n",
            "Requirement already satisfied: numpy in /usr/local/lib/python3.10/dist-packages (from keras>=3.2.0->scikeras) (1.26.4)\n",
            "Requirement already satisfied: rich in /usr/local/lib/python3.10/dist-packages (from keras>=3.2.0->scikeras) (13.9.2)\n",
            "Requirement already satisfied: namex in /usr/local/lib/python3.10/dist-packages (from keras>=3.2.0->scikeras) (0.0.8)\n",
            "Requirement already satisfied: h5py in /usr/local/lib/python3.10/dist-packages (from keras>=3.2.0->scikeras) (3.11.0)\n",
            "Requirement already satisfied: optree in /usr/local/lib/python3.10/dist-packages (from keras>=3.2.0->scikeras) (0.13.0)\n",
            "Requirement already satisfied: ml-dtypes in /usr/local/lib/python3.10/dist-packages (from keras>=3.2.0->scikeras) (0.4.1)\n",
            "Requirement already satisfied: packaging in /usr/local/lib/python3.10/dist-packages (from keras>=3.2.0->scikeras) (24.1)\n",
            "Requirement already satisfied: scipy>=1.6.0 in /usr/local/lib/python3.10/dist-packages (from scikit-learn>=1.4.2->scikeras) (1.13.1)\n",
            "Requirement already satisfied: joblib>=1.2.0 in /usr/local/lib/python3.10/dist-packages (from scikit-learn>=1.4.2->scikeras) (1.4.2)\n",
            "Requirement already satisfied: threadpoolctl>=3.1.0 in /usr/local/lib/python3.10/dist-packages (from scikit-learn>=1.4.2->scikeras) (3.5.0)\n",
            "Requirement already satisfied: typing-extensions>=4.5.0 in /usr/local/lib/python3.10/dist-packages (from optree->keras>=3.2.0->scikeras) (4.12.2)\n",
            "Requirement already satisfied: markdown-it-py>=2.2.0 in /usr/local/lib/python3.10/dist-packages (from rich->keras>=3.2.0->scikeras) (3.0.0)\n",
            "Requirement already satisfied: pygments<3.0.0,>=2.13.0 in /usr/local/lib/python3.10/dist-packages (from rich->keras>=3.2.0->scikeras) (2.18.0)\n",
            "Requirement already satisfied: mdurl~=0.1 in /usr/local/lib/python3.10/dist-packages (from markdown-it-py>=2.2.0->rich->keras>=3.2.0->scikeras) (0.1.2)\n"
          ]
        }
      ],
      "source": [
        "!pip install scikeras\n",
        "\n",
        "# Importar las librerías\n",
        "import numpy as np\n",
        "import pandas as pd\n",
        "import tensorflow as tf\n",
        "import matplotlib.pyplot as plt\n",
        "import scikeras\n",
        "\n",
        "from sklearn.utils.class_weight import compute_class_weight\n",
        "from sklearn.model_selection import train_test_split\n",
        "from sklearn.tree import DecisionTreeClassifier, plot_tree\n",
        "from sklearn.metrics import accuracy_score, classification_report\n",
        "from sklearn.model_selection import GridSearchCV\n",
        "from sklearn.preprocessing import MinMaxScaler\n",
        "from sklearn.preprocessing import OneHotEncoder\n",
        "\n",
        "from tensorflow import keras\n",
        "from keras import Sequential, layers, Input\n",
        "from scikeras.wrappers import KerasClassifier\n",
        "\n",
        "from pandas.api.types import is_numeric_dtype\n",
        "from math import floor"
      ]
    },
    {
      "cell_type": "markdown",
      "metadata": {
        "id": "L3DdJ_74Nv_1"
      },
      "source": [
        "# Carga y análisis de datos"
      ]
    },
    {
      "cell_type": "code",
      "execution_count": 2,
      "metadata": {
        "colab": {
          "base_uri": "https://localhost:8080/"
        },
        "id": "3p1gYBLSNq91",
        "outputId": "9180fa37-6aaa-490b-d790-71cc7e542e41"
      },
      "outputs": [
        {
          "output_type": "stream",
          "name": "stdout",
          "text": [
            "El conjunto tiene 5320 filas y 22 columnas.\n"
          ]
        }
      ],
      "source": [
        "# Cargar el dataset\n",
        "df = pd.read_csv(\"football_train.csv\")\n",
        "print(f\"El conjunto tiene {df.shape[0]} filas y {df.shape[1]} columnas.\")"
      ]
    },
    {
      "cell_type": "code",
      "execution_count": 97,
      "metadata": {
        "colab": {
          "base_uri": "https://localhost:8080/",
          "height": 638
        },
        "id": "clQj1GqjnETY",
        "outputId": "6383155b-4e50-44b6-c3fa-8b9958af255a"
      },
      "outputs": [
        {
          "output_type": "execute_result",
          "data": {
            "text/plain": [
              "      Goals  Shots  Shots_on_target  Corners  Fouls_commited  Offsides  \\\n",
              "3749   17.0    286               88      114             321         0   \n",
              "1216    2.0     14                6        5              11         0   \n",
              "868    30.0    324              108      142             292         0   \n",
              "4639   14.0     66               30       21              36         0   \n",
              "3094   17.0    192               60       85             155         0   \n",
              "1886   42.0    350              147      122             283         0   \n",
              "1616   23.0    211               70       77             190         0   \n",
              "2640   35.0    326              116      125             202         0   \n",
              "4324   29.0    309              104      131             340         0   \n",
              "5053   51.0    417              152      135             411         0   \n",
              "\n",
              "      Yellow_cards  Red_cards  Corners_received  Fouls_received  ...  \\\n",
              "3749          45.0        1.0               140             265  ...   \n",
              "1216           1.0        0.0                10              10  ...   \n",
              "868           44.0        0.0               220             381  ...   \n",
              "4639           2.0        0.0                 8              45  ...   \n",
              "3094          19.0        0.0               101             178  ...   \n",
              "1886          52.0        3.0               134             257  ...   \n",
              "1616          37.0        1.0               144             187  ...   \n",
              "2640          11.0        0.0                63             202  ...   \n",
              "4324          47.0        3.0               188             309  ...   \n",
              "5053          57.0        2.0               236             410  ...   \n",
              "\n",
              "      Shots_on_target_received  Goals_received  Played_Matches  Season  \\\n",
              "3749                       122              37              26    2021   \n",
              "1216                         4               0               1    1718   \n",
              "868                        149              36              33    1718   \n",
              "4639                        17               3               4    2223   \n",
              "3094                        80              23              17    2021   \n",
              "1886                       126              37              25    1819   \n",
              "1616                       106              33              21    1819   \n",
              "2640                        60              27              19    1920   \n",
              "4324                       155              64              31    2122   \n",
              "5053                       178              68              38    2223   \n",
              "\n",
              "                     City             Stadium Stadium_capacity  \\\n",
              "3749               London      Craven Cottage            24500   \n",
              "1216  Newcastle upon Tyne      St James' Park            52305   \n",
              "868               Burnley           Turf Moor            21944   \n",
              "4639               London    Emirates Stadium            60704   \n",
              "3094              Burnley           Turf Moor            21944   \n",
              "1886           Manchester        Old Trafford            74310   \n",
              "1616              Burnley           Turf Moor            21944   \n",
              "2640               London     Stamford Bridge            41837   \n",
              "4324              Watford       Vicarage Road            22200   \n",
              "5053            Leicester  King Power Stadium            32312   \n",
              "\n",
              "                           Ownership Dominant_team  Position  \n",
              "3749                     Shahid Khan           2.0         3  \n",
              "1216    Saudi Public Investment Fund           2.0         2  \n",
              "868                      ALK Capital           2.0         1  \n",
              "4639  Kroenke Sports & Entertainment           0.0         0  \n",
              "3094                     ALK Capital           2.0         2  \n",
              "1886                   Glazer family           2.0         1  \n",
              "1616                     ALK Capital           2.0         2  \n",
              "2640                     Todd Boehly           1.0         0  \n",
              "4324                      Gino Pozzo           2.0         3  \n",
              "5053  King Power International Group           2.0         3  \n",
              "\n",
              "[10 rows x 21 columns]"
            ],
            "text/html": [
              "\n",
              "  <div id=\"df-c8474f01-1a64-4817-b5f2-f66cccaabcc5\" class=\"colab-df-container\">\n",
              "    <div>\n",
              "<style scoped>\n",
              "    .dataframe tbody tr th:only-of-type {\n",
              "        vertical-align: middle;\n",
              "    }\n",
              "\n",
              "    .dataframe tbody tr th {\n",
              "        vertical-align: top;\n",
              "    }\n",
              "\n",
              "    .dataframe thead th {\n",
              "        text-align: right;\n",
              "    }\n",
              "</style>\n",
              "<table border=\"1\" class=\"dataframe\">\n",
              "  <thead>\n",
              "    <tr style=\"text-align: right;\">\n",
              "      <th></th>\n",
              "      <th>Goals</th>\n",
              "      <th>Shots</th>\n",
              "      <th>Shots_on_target</th>\n",
              "      <th>Corners</th>\n",
              "      <th>Fouls_commited</th>\n",
              "      <th>Offsides</th>\n",
              "      <th>Yellow_cards</th>\n",
              "      <th>Red_cards</th>\n",
              "      <th>Corners_received</th>\n",
              "      <th>Fouls_received</th>\n",
              "      <th>...</th>\n",
              "      <th>Shots_on_target_received</th>\n",
              "      <th>Goals_received</th>\n",
              "      <th>Played_Matches</th>\n",
              "      <th>Season</th>\n",
              "      <th>City</th>\n",
              "      <th>Stadium</th>\n",
              "      <th>Stadium_capacity</th>\n",
              "      <th>Ownership</th>\n",
              "      <th>Dominant_team</th>\n",
              "      <th>Position</th>\n",
              "    </tr>\n",
              "  </thead>\n",
              "  <tbody>\n",
              "    <tr>\n",
              "      <th>3749</th>\n",
              "      <td>17.0</td>\n",
              "      <td>286</td>\n",
              "      <td>88</td>\n",
              "      <td>114</td>\n",
              "      <td>321</td>\n",
              "      <td>0</td>\n",
              "      <td>45.0</td>\n",
              "      <td>1.0</td>\n",
              "      <td>140</td>\n",
              "      <td>265</td>\n",
              "      <td>...</td>\n",
              "      <td>122</td>\n",
              "      <td>37</td>\n",
              "      <td>26</td>\n",
              "      <td>2021</td>\n",
              "      <td>London</td>\n",
              "      <td>Craven Cottage</td>\n",
              "      <td>24500</td>\n",
              "      <td>Shahid Khan</td>\n",
              "      <td>2.0</td>\n",
              "      <td>3</td>\n",
              "    </tr>\n",
              "    <tr>\n",
              "      <th>1216</th>\n",
              "      <td>2.0</td>\n",
              "      <td>14</td>\n",
              "      <td>6</td>\n",
              "      <td>5</td>\n",
              "      <td>11</td>\n",
              "      <td>0</td>\n",
              "      <td>1.0</td>\n",
              "      <td>0.0</td>\n",
              "      <td>10</td>\n",
              "      <td>10</td>\n",
              "      <td>...</td>\n",
              "      <td>4</td>\n",
              "      <td>0</td>\n",
              "      <td>1</td>\n",
              "      <td>1718</td>\n",
              "      <td>Newcastle upon Tyne</td>\n",
              "      <td>St James' Park</td>\n",
              "      <td>52305</td>\n",
              "      <td>Saudi Public Investment Fund</td>\n",
              "      <td>2.0</td>\n",
              "      <td>2</td>\n",
              "    </tr>\n",
              "    <tr>\n",
              "      <th>868</th>\n",
              "      <td>30.0</td>\n",
              "      <td>324</td>\n",
              "      <td>108</td>\n",
              "      <td>142</td>\n",
              "      <td>292</td>\n",
              "      <td>0</td>\n",
              "      <td>44.0</td>\n",
              "      <td>0.0</td>\n",
              "      <td>220</td>\n",
              "      <td>381</td>\n",
              "      <td>...</td>\n",
              "      <td>149</td>\n",
              "      <td>36</td>\n",
              "      <td>33</td>\n",
              "      <td>1718</td>\n",
              "      <td>Burnley</td>\n",
              "      <td>Turf Moor</td>\n",
              "      <td>21944</td>\n",
              "      <td>ALK Capital</td>\n",
              "      <td>2.0</td>\n",
              "      <td>1</td>\n",
              "    </tr>\n",
              "    <tr>\n",
              "      <th>4639</th>\n",
              "      <td>14.0</td>\n",
              "      <td>66</td>\n",
              "      <td>30</td>\n",
              "      <td>21</td>\n",
              "      <td>36</td>\n",
              "      <td>0</td>\n",
              "      <td>2.0</td>\n",
              "      <td>0.0</td>\n",
              "      <td>8</td>\n",
              "      <td>45</td>\n",
              "      <td>...</td>\n",
              "      <td>17</td>\n",
              "      <td>3</td>\n",
              "      <td>4</td>\n",
              "      <td>2223</td>\n",
              "      <td>London</td>\n",
              "      <td>Emirates Stadium</td>\n",
              "      <td>60704</td>\n",
              "      <td>Kroenke Sports &amp; Entertainment</td>\n",
              "      <td>0.0</td>\n",
              "      <td>0</td>\n",
              "    </tr>\n",
              "    <tr>\n",
              "      <th>3094</th>\n",
              "      <td>17.0</td>\n",
              "      <td>192</td>\n",
              "      <td>60</td>\n",
              "      <td>85</td>\n",
              "      <td>155</td>\n",
              "      <td>0</td>\n",
              "      <td>19.0</td>\n",
              "      <td>0.0</td>\n",
              "      <td>101</td>\n",
              "      <td>178</td>\n",
              "      <td>...</td>\n",
              "      <td>80</td>\n",
              "      <td>23</td>\n",
              "      <td>17</td>\n",
              "      <td>2021</td>\n",
              "      <td>Burnley</td>\n",
              "      <td>Turf Moor</td>\n",
              "      <td>21944</td>\n",
              "      <td>ALK Capital</td>\n",
              "      <td>2.0</td>\n",
              "      <td>2</td>\n",
              "    </tr>\n",
              "    <tr>\n",
              "      <th>1886</th>\n",
              "      <td>42.0</td>\n",
              "      <td>350</td>\n",
              "      <td>147</td>\n",
              "      <td>122</td>\n",
              "      <td>283</td>\n",
              "      <td>0</td>\n",
              "      <td>52.0</td>\n",
              "      <td>3.0</td>\n",
              "      <td>134</td>\n",
              "      <td>257</td>\n",
              "      <td>...</td>\n",
              "      <td>126</td>\n",
              "      <td>37</td>\n",
              "      <td>25</td>\n",
              "      <td>1819</td>\n",
              "      <td>Manchester</td>\n",
              "      <td>Old Trafford</td>\n",
              "      <td>74310</td>\n",
              "      <td>Glazer family</td>\n",
              "      <td>2.0</td>\n",
              "      <td>1</td>\n",
              "    </tr>\n",
              "    <tr>\n",
              "      <th>1616</th>\n",
              "      <td>23.0</td>\n",
              "      <td>211</td>\n",
              "      <td>70</td>\n",
              "      <td>77</td>\n",
              "      <td>190</td>\n",
              "      <td>0</td>\n",
              "      <td>37.0</td>\n",
              "      <td>1.0</td>\n",
              "      <td>144</td>\n",
              "      <td>187</td>\n",
              "      <td>...</td>\n",
              "      <td>106</td>\n",
              "      <td>33</td>\n",
              "      <td>21</td>\n",
              "      <td>1819</td>\n",
              "      <td>Burnley</td>\n",
              "      <td>Turf Moor</td>\n",
              "      <td>21944</td>\n",
              "      <td>ALK Capital</td>\n",
              "      <td>2.0</td>\n",
              "      <td>2</td>\n",
              "    </tr>\n",
              "    <tr>\n",
              "      <th>2640</th>\n",
              "      <td>35.0</td>\n",
              "      <td>326</td>\n",
              "      <td>116</td>\n",
              "      <td>125</td>\n",
              "      <td>202</td>\n",
              "      <td>0</td>\n",
              "      <td>11.0</td>\n",
              "      <td>0.0</td>\n",
              "      <td>63</td>\n",
              "      <td>202</td>\n",
              "      <td>...</td>\n",
              "      <td>60</td>\n",
              "      <td>27</td>\n",
              "      <td>19</td>\n",
              "      <td>1920</td>\n",
              "      <td>London</td>\n",
              "      <td>Stamford Bridge</td>\n",
              "      <td>41837</td>\n",
              "      <td>Todd Boehly</td>\n",
              "      <td>1.0</td>\n",
              "      <td>0</td>\n",
              "    </tr>\n",
              "    <tr>\n",
              "      <th>4324</th>\n",
              "      <td>29.0</td>\n",
              "      <td>309</td>\n",
              "      <td>104</td>\n",
              "      <td>131</td>\n",
              "      <td>340</td>\n",
              "      <td>0</td>\n",
              "      <td>47.0</td>\n",
              "      <td>3.0</td>\n",
              "      <td>188</td>\n",
              "      <td>309</td>\n",
              "      <td>...</td>\n",
              "      <td>155</td>\n",
              "      <td>64</td>\n",
              "      <td>31</td>\n",
              "      <td>2122</td>\n",
              "      <td>Watford</td>\n",
              "      <td>Vicarage Road</td>\n",
              "      <td>22200</td>\n",
              "      <td>Gino Pozzo</td>\n",
              "      <td>2.0</td>\n",
              "      <td>3</td>\n",
              "    </tr>\n",
              "    <tr>\n",
              "      <th>5053</th>\n",
              "      <td>51.0</td>\n",
              "      <td>417</td>\n",
              "      <td>152</td>\n",
              "      <td>135</td>\n",
              "      <td>411</td>\n",
              "      <td>0</td>\n",
              "      <td>57.0</td>\n",
              "      <td>2.0</td>\n",
              "      <td>236</td>\n",
              "      <td>410</td>\n",
              "      <td>...</td>\n",
              "      <td>178</td>\n",
              "      <td>68</td>\n",
              "      <td>38</td>\n",
              "      <td>2223</td>\n",
              "      <td>Leicester</td>\n",
              "      <td>King Power Stadium</td>\n",
              "      <td>32312</td>\n",
              "      <td>King Power International Group</td>\n",
              "      <td>2.0</td>\n",
              "      <td>3</td>\n",
              "    </tr>\n",
              "  </tbody>\n",
              "</table>\n",
              "<p>10 rows × 21 columns</p>\n",
              "</div>\n",
              "    <div class=\"colab-df-buttons\">\n",
              "\n",
              "  <div class=\"colab-df-container\">\n",
              "    <button class=\"colab-df-convert\" onclick=\"convertToInteractive('df-c8474f01-1a64-4817-b5f2-f66cccaabcc5')\"\n",
              "            title=\"Convert this dataframe to an interactive table.\"\n",
              "            style=\"display:none;\">\n",
              "\n",
              "  <svg xmlns=\"http://www.w3.org/2000/svg\" height=\"24px\" viewBox=\"0 -960 960 960\">\n",
              "    <path d=\"M120-120v-720h720v720H120Zm60-500h600v-160H180v160Zm220 220h160v-160H400v160Zm0 220h160v-160H400v160ZM180-400h160v-160H180v160Zm440 0h160v-160H620v160ZM180-180h160v-160H180v160Zm440 0h160v-160H620v160Z\"/>\n",
              "  </svg>\n",
              "    </button>\n",
              "\n",
              "  <style>\n",
              "    .colab-df-container {\n",
              "      display:flex;\n",
              "      gap: 12px;\n",
              "    }\n",
              "\n",
              "    .colab-df-convert {\n",
              "      background-color: #E8F0FE;\n",
              "      border: none;\n",
              "      border-radius: 50%;\n",
              "      cursor: pointer;\n",
              "      display: none;\n",
              "      fill: #1967D2;\n",
              "      height: 32px;\n",
              "      padding: 0 0 0 0;\n",
              "      width: 32px;\n",
              "    }\n",
              "\n",
              "    .colab-df-convert:hover {\n",
              "      background-color: #E2EBFA;\n",
              "      box-shadow: 0px 1px 2px rgba(60, 64, 67, 0.3), 0px 1px 3px 1px rgba(60, 64, 67, 0.15);\n",
              "      fill: #174EA6;\n",
              "    }\n",
              "\n",
              "    .colab-df-buttons div {\n",
              "      margin-bottom: 4px;\n",
              "    }\n",
              "\n",
              "    [theme=dark] .colab-df-convert {\n",
              "      background-color: #3B4455;\n",
              "      fill: #D2E3FC;\n",
              "    }\n",
              "\n",
              "    [theme=dark] .colab-df-convert:hover {\n",
              "      background-color: #434B5C;\n",
              "      box-shadow: 0px 1px 3px 1px rgba(0, 0, 0, 0.15);\n",
              "      filter: drop-shadow(0px 1px 2px rgba(0, 0, 0, 0.3));\n",
              "      fill: #FFFFFF;\n",
              "    }\n",
              "  </style>\n",
              "\n",
              "    <script>\n",
              "      const buttonEl =\n",
              "        document.querySelector('#df-c8474f01-1a64-4817-b5f2-f66cccaabcc5 button.colab-df-convert');\n",
              "      buttonEl.style.display =\n",
              "        google.colab.kernel.accessAllowed ? 'block' : 'none';\n",
              "\n",
              "      async function convertToInteractive(key) {\n",
              "        const element = document.querySelector('#df-c8474f01-1a64-4817-b5f2-f66cccaabcc5');\n",
              "        const dataTable =\n",
              "          await google.colab.kernel.invokeFunction('convertToInteractive',\n",
              "                                                    [key], {});\n",
              "        if (!dataTable) return;\n",
              "\n",
              "        const docLinkHtml = 'Like what you see? Visit the ' +\n",
              "          '<a target=\"_blank\" href=https://colab.research.google.com/notebooks/data_table.ipynb>data table notebook</a>'\n",
              "          + ' to learn more about interactive tables.';\n",
              "        element.innerHTML = '';\n",
              "        dataTable['output_type'] = 'display_data';\n",
              "        await google.colab.output.renderOutput(dataTable, element);\n",
              "        const docLink = document.createElement('div');\n",
              "        docLink.innerHTML = docLinkHtml;\n",
              "        element.appendChild(docLink);\n",
              "      }\n",
              "    </script>\n",
              "  </div>\n",
              "\n",
              "\n",
              "<div id=\"df-f9997a68-a5d8-43a9-915f-5ebfcc814252\">\n",
              "  <button class=\"colab-df-quickchart\" onclick=\"quickchart('df-f9997a68-a5d8-43a9-915f-5ebfcc814252')\"\n",
              "            title=\"Suggest charts\"\n",
              "            style=\"display:none;\">\n",
              "\n",
              "<svg xmlns=\"http://www.w3.org/2000/svg\" height=\"24px\"viewBox=\"0 0 24 24\"\n",
              "     width=\"24px\">\n",
              "    <g>\n",
              "        <path d=\"M19 3H5c-1.1 0-2 .9-2 2v14c0 1.1.9 2 2 2h14c1.1 0 2-.9 2-2V5c0-1.1-.9-2-2-2zM9 17H7v-7h2v7zm4 0h-2V7h2v10zm4 0h-2v-4h2v4z\"/>\n",
              "    </g>\n",
              "</svg>\n",
              "  </button>\n",
              "\n",
              "<style>\n",
              "  .colab-df-quickchart {\n",
              "      --bg-color: #E8F0FE;\n",
              "      --fill-color: #1967D2;\n",
              "      --hover-bg-color: #E2EBFA;\n",
              "      --hover-fill-color: #174EA6;\n",
              "      --disabled-fill-color: #AAA;\n",
              "      --disabled-bg-color: #DDD;\n",
              "  }\n",
              "\n",
              "  [theme=dark] .colab-df-quickchart {\n",
              "      --bg-color: #3B4455;\n",
              "      --fill-color: #D2E3FC;\n",
              "      --hover-bg-color: #434B5C;\n",
              "      --hover-fill-color: #FFFFFF;\n",
              "      --disabled-bg-color: #3B4455;\n",
              "      --disabled-fill-color: #666;\n",
              "  }\n",
              "\n",
              "  .colab-df-quickchart {\n",
              "    background-color: var(--bg-color);\n",
              "    border: none;\n",
              "    border-radius: 50%;\n",
              "    cursor: pointer;\n",
              "    display: none;\n",
              "    fill: var(--fill-color);\n",
              "    height: 32px;\n",
              "    padding: 0;\n",
              "    width: 32px;\n",
              "  }\n",
              "\n",
              "  .colab-df-quickchart:hover {\n",
              "    background-color: var(--hover-bg-color);\n",
              "    box-shadow: 0 1px 2px rgba(60, 64, 67, 0.3), 0 1px 3px 1px rgba(60, 64, 67, 0.15);\n",
              "    fill: var(--button-hover-fill-color);\n",
              "  }\n",
              "\n",
              "  .colab-df-quickchart-complete:disabled,\n",
              "  .colab-df-quickchart-complete:disabled:hover {\n",
              "    background-color: var(--disabled-bg-color);\n",
              "    fill: var(--disabled-fill-color);\n",
              "    box-shadow: none;\n",
              "  }\n",
              "\n",
              "  .colab-df-spinner {\n",
              "    border: 2px solid var(--fill-color);\n",
              "    border-color: transparent;\n",
              "    border-bottom-color: var(--fill-color);\n",
              "    animation:\n",
              "      spin 1s steps(1) infinite;\n",
              "  }\n",
              "\n",
              "  @keyframes spin {\n",
              "    0% {\n",
              "      border-color: transparent;\n",
              "      border-bottom-color: var(--fill-color);\n",
              "      border-left-color: var(--fill-color);\n",
              "    }\n",
              "    20% {\n",
              "      border-color: transparent;\n",
              "      border-left-color: var(--fill-color);\n",
              "      border-top-color: var(--fill-color);\n",
              "    }\n",
              "    30% {\n",
              "      border-color: transparent;\n",
              "      border-left-color: var(--fill-color);\n",
              "      border-top-color: var(--fill-color);\n",
              "      border-right-color: var(--fill-color);\n",
              "    }\n",
              "    40% {\n",
              "      border-color: transparent;\n",
              "      border-right-color: var(--fill-color);\n",
              "      border-top-color: var(--fill-color);\n",
              "    }\n",
              "    60% {\n",
              "      border-color: transparent;\n",
              "      border-right-color: var(--fill-color);\n",
              "    }\n",
              "    80% {\n",
              "      border-color: transparent;\n",
              "      border-right-color: var(--fill-color);\n",
              "      border-bottom-color: var(--fill-color);\n",
              "    }\n",
              "    90% {\n",
              "      border-color: transparent;\n",
              "      border-bottom-color: var(--fill-color);\n",
              "    }\n",
              "  }\n",
              "</style>\n",
              "\n",
              "  <script>\n",
              "    async function quickchart(key) {\n",
              "      const quickchartButtonEl =\n",
              "        document.querySelector('#' + key + ' button');\n",
              "      quickchartButtonEl.disabled = true;  // To prevent multiple clicks.\n",
              "      quickchartButtonEl.classList.add('colab-df-spinner');\n",
              "      try {\n",
              "        const charts = await google.colab.kernel.invokeFunction(\n",
              "            'suggestCharts', [key], {});\n",
              "      } catch (error) {\n",
              "        console.error('Error during call to suggestCharts:', error);\n",
              "      }\n",
              "      quickchartButtonEl.classList.remove('colab-df-spinner');\n",
              "      quickchartButtonEl.classList.add('colab-df-quickchart-complete');\n",
              "    }\n",
              "    (() => {\n",
              "      let quickchartButtonEl =\n",
              "        document.querySelector('#df-f9997a68-a5d8-43a9-915f-5ebfcc814252 button');\n",
              "      quickchartButtonEl.style.display =\n",
              "        google.colab.kernel.accessAllowed ? 'block' : 'none';\n",
              "    })();\n",
              "  </script>\n",
              "</div>\n",
              "\n",
              "    </div>\n",
              "  </div>\n"
            ],
            "application/vnd.google.colaboratory.intrinsic+json": {
              "type": "dataframe"
            }
          },
          "metadata": {},
          "execution_count": 97
        }
      ],
      "source": [
        "df.sample(10)"
      ]
    },
    {
      "cell_type": "code",
      "execution_count": null,
      "metadata": {
        "colab": {
          "base_uri": "https://localhost:8080/"
        },
        "id": "lhBSida3jWzh",
        "outputId": "f9a65687-63c3-46ad-a296-4625e1fbc898"
      },
      "outputs": [
        {
          "name": "stdout",
          "output_type": "stream",
          "text": [
            "<class 'pandas.core.frame.DataFrame'>\n",
            "RangeIndex: 5320 entries, 0 to 5319\n",
            "Data columns (total 22 columns):\n",
            " #   Column                    Non-Null Count  Dtype  \n",
            "---  ------                    --------------  -----  \n",
            " 0   Team                      5320 non-null   object \n",
            " 1   Goals                     4856 non-null   float64\n",
            " 2   Shots                     5320 non-null   int64  \n",
            " 3   Shots_on_target           5320 non-null   int64  \n",
            " 4   Corners                   5320 non-null   int64  \n",
            " 5   Fouls_commited            5320 non-null   int64  \n",
            " 6   Offsides                  5320 non-null   int64  \n",
            " 7   Yellow_cards              2157 non-null   float64\n",
            " 8   Red_cards                 5029 non-null   float64\n",
            " 9   Corners_received          5320 non-null   int64  \n",
            " 10  Fouls_received            5320 non-null   int64  \n",
            " 11  Shots_received            5320 non-null   int64  \n",
            " 12  Shots_on_target_received  5320 non-null   int64  \n",
            " 13  Goals_received            5320 non-null   int64  \n",
            " 14  Played_Matches            5320 non-null   int64  \n",
            " 15  Season                    5320 non-null   int64  \n",
            " 16  City                      5320 non-null   object \n",
            " 17  Stadium                   5320 non-null   object \n",
            " 18  Stadium_capacity          5320 non-null   int64  \n",
            " 19  Ownership                 5320 non-null   object \n",
            " 20  Dominant_team             5320 non-null   object \n",
            " 21  Position                  5048 non-null   object \n",
            "dtypes: float64(3), int64(13), object(6)\n",
            "memory usage: 914.5+ KB\n"
          ]
        }
      ],
      "source": [
        "df.info()"
      ]
    },
    {
      "cell_type": "code",
      "execution_count": null,
      "metadata": {
        "id": "9y8z-NoRk3e3"
      },
      "outputs": [],
      "source": [
        "# Buscar atributos que no sean de tipo numérico\n",
        "for attr in df.columns:\n",
        "  if (not is_numeric_dtype(df[attr])):\n",
        "    print(f\"El atributo {attr} no es de tipo numérico, es de tipo {df[attr].dtype}.\")"
      ]
    },
    {
      "cell_type": "code",
      "execution_count": null,
      "metadata": {
        "id": "cTPWJl9djogQ"
      },
      "outputs": [],
      "source": [
        "# Buscar atributos que tengan valores nulos\n",
        "for attr in df.columns:\n",
        "  na_count = df[attr].isna().sum()\n",
        "  if (na_count > 0):\n",
        "    print(f\"Para el atributo {attr} hay {na_count} ejemplos nulos.\")"
      ]
    },
    {
      "cell_type": "markdown",
      "metadata": {
        "id": "0Rq4YPbmNy25"
      },
      "source": [
        "# Procesamiento de los datos"
      ]
    },
    {
      "cell_type": "code",
      "execution_count": 3,
      "metadata": {
        "colab": {
          "base_uri": "https://localhost:8080/"
        },
        "id": "HPvN3iwB-vWK",
        "outputId": "4bc83a9a-8244-4fac-a6bf-283530ca7923"
      },
      "outputs": [
        {
          "output_type": "stream",
          "name": "stdout",
          "text": [
            "Los valores del atributo Dominant_team son: ['not_dominant' 'dominant' '0' 'very_dominant']\n"
          ]
        }
      ],
      "source": [
        "# Mapeo los valores del atributo Dominant_team a un número\n",
        "dominant_values = df[\"Dominant_team\"].unique()\n",
        "print(f\"Los valores del atributo Dominant_team son: {dominant_values}\")\n",
        "\n",
        "map_dominant = {\n",
        "    \"very_dominant\": 0,\n",
        "    \"dominant\": 1,\n",
        "    \"not_dominant\": 2,\n",
        "}\n",
        "\n",
        "df[\"Dominant_team\"] = df[\"Dominant_team\"].map(map_dominant)"
      ]
    },
    {
      "cell_type": "code",
      "execution_count": 4,
      "metadata": {
        "colab": {
          "base_uri": "https://localhost:8080/"
        },
        "id": "TmU0Q2KwH9lC",
        "outputId": "8cebb62f-7784-4d10-e1fa-977e3026335e"
      },
      "outputs": [
        {
          "output_type": "stream",
          "name": "stdout",
          "text": [
            "Los valores del atributo Position son: ['media-tabla' nan '5-a-7' 'descenso' 'top-4']\n"
          ]
        }
      ],
      "source": [
        "# Mapeo los valores del atributo Position a un número\n",
        "position_values = df[\"Position\"].unique()\n",
        "print(f\"Los valores del atributo Position son: {position_values}\")\n",
        "\n",
        "map_position = {\n",
        "    \"top-4\": 0,\n",
        "    \"5-a-7\": 1,\n",
        "    \"media-tabla\": 2,\n",
        "    \"descenso\": 3\n",
        "}\n",
        "\n",
        "df[\"Position\"] = df[\"Position\"].map(map_position).astype(\"Int64\")"
      ]
    },
    {
      "cell_type": "code",
      "execution_count": 5,
      "metadata": {
        "id": "NZHwsQ1PN1i3"
      },
      "outputs": [],
      "source": [
        "# Elimino las columnas que considero que no son relevantes\n",
        "df.drop(columns=[\"City\"], inplace=True, errors=\"ignore\")\n",
        "df.drop(columns=[\"Stadium\"], inplace=True, errors=\"ignore\")\n",
        "df.drop(columns=[\"Stadium_capacity\"], inplace=True, errors=\"ignore\")\n",
        "df.drop(columns=[\"Ownership\"], inplace=True, errors=\"ignore\")"
      ]
    },
    {
      "cell_type": "code",
      "execution_count": 6,
      "metadata": {
        "id": "_xyluNF0dI3Q"
      },
      "outputs": [],
      "source": [
        "# Función para rellenar los valores faltantes de la columna 'attr' en el dataframe 'df'\n",
        "def fill_attr(df, attr):\n",
        "  for index, row in df[df[attr].isna()].iterrows():\n",
        "    values = []\n",
        "    team = row[\"Team\"]\n",
        "    season = row[\"Season\"]\n",
        "\n",
        "    prev_row = df.iloc[index-1] if index-1 > 0 else None\n",
        "    next_row = df.iloc[index+1] if index+1 < len(df) else None\n",
        "\n",
        "    if (prev_row is not None and not pd.isna(prev_row[attr])\n",
        "        and prev_row[\"Team\"] == team and prev_row[\"Season\"] == season):\n",
        "      values.append(prev_row[attr])\n",
        "\n",
        "    if (next_row is not None and not pd.isna(next_row[attr])\n",
        "        and next_row[\"Team\"] == team and next_row[\"Season\"] == season):\n",
        "      values.append(next_row[attr])\n",
        "\n",
        "    if (values != []):\n",
        "      df.at[index, attr] = floor(sum(values)/len(values))\n"
      ]
    },
    {
      "cell_type": "code",
      "execution_count": 7,
      "metadata": {
        "id": "peuUeEPm0Rgo"
      },
      "outputs": [],
      "source": [
        "# Relleno los valores faltantes de las siguientes columnas:\n",
        "fill_attr(df, \"Goals\")\n",
        "fill_attr(df, \"Position\")\n",
        "fill_attr(df, \"Yellow_cards\")\n",
        "fill_attr(df, \"Red_cards\")\n",
        "fill_attr(df, \"Dominant_team\")"
      ]
    },
    {
      "cell_type": "code",
      "execution_count": null,
      "metadata": {
        "colab": {
          "base_uri": "https://localhost:8080/",
          "height": 449
        },
        "id": "ve0Ydkcr3B1t",
        "outputId": "2e69635c-18f7-45f9-ccca-9465978de4da"
      },
      "outputs": [
        {
          "output_type": "display_data",
          "data": {
            "text/plain": [
              "<Figure size 640x480 with 1 Axes>"
            ],
            "image/png": "[encoded data removed]"
          },
          "metadata": {}
        }
      ],
      "source": [
        "# Distribución de los ejemplos (filas del dataset) para cada clase\n",
        "map_position_inv = {v: k for k, v in map_position.items()}\n",
        "position_counts = df[\"Position\"].map(map_position_inv).value_counts()\n",
        "\n",
        "# Crear el histograma\n",
        "plt.bar(position_counts.index, position_counts.values)\n",
        "\n",
        "# Agregar etiquetas y título\n",
        "plt.xlabel(\"Posición en la tabla\")\n",
        "plt.ylabel(\"Cantidad de equipos\")\n",
        "\n",
        "# Mostrar el histograma\n",
        "plt.show()"
      ]
    },
    {
      "cell_type": "code",
      "execution_count": 8,
      "metadata": {
        "id": "nIw93jYAELm3"
      },
      "outputs": [],
      "source": [
        "# Elimino la columna Team\n",
        "df.drop(columns=[\"Team\"], inplace=True, errors=\"ignore\")"
      ]
    },
    {
      "cell_type": "code",
      "execution_count": 9,
      "metadata": {
        "id": "PSMAH3Fe1RsS"
      },
      "outputs": [],
      "source": [
        "# Elimino los ejemplos que hayan quedado con valores nulos\n",
        "df.dropna(inplace=True)"
      ]
    },
    {
      "cell_type": "code",
      "execution_count": 10,
      "metadata": {
        "id": "vxpMW3oi-wtw"
      },
      "outputs": [],
      "source": [
        "# Valores de la columna target.\n",
        "Y = df[\"Position\"].values\n",
        "\n",
        "# Porción del dataframe con los atributostrain_df = pd.concat([X_train.reset_index(drop=True), y_train.reset_index(drop=True)], axis=1).\n",
        "X = df.drop(columns = [\"Position\"])"
      ]
    },
    {
      "cell_type": "code",
      "execution_count": 11,
      "metadata": {
        "colab": {
          "base_uri": "https://localhost:8080/"
        },
        "id": "ktcGBJWq1mel",
        "outputId": "9a38b9cd-39c5-408b-b0a2-16c9d954ae74"
      },
      "outputs": [
        {
          "output_type": "stream",
          "name": "stdout",
          "text": [
            "Datos de entrenamiento:\n",
            "\tCantidad de ejemplos (filas): 3991\n",
            "\tCantidad de atributos (columnas): 16\n",
            "\n",
            "Datos de validación:\n",
            "\tCantidad de ejemplos (filas): 444\n",
            "\tCantidad de atributos (columnas): 16\n",
            "\n",
            "Datos de test:\n",
            "\tCantidad de ejemplos (filas): 783\n",
            "\tCantidad de atributos (columnas): 16\n"
          ]
        }
      ],
      "source": [
        "# Porcentajes para datos de validación y test.\n",
        "test_size = 0.15\n",
        "val_size = 0.10\n",
        "\n",
        "# La función train_test_split separa los datos (X, Y) en dos porciones\n",
        "X_train, X_test, y_train, y_test = train_test_split(X, Y, test_size = test_size, random_state = 10)\n",
        "X_train, X_val, y_train, y_val = train_test_split(X_train, y_train, test_size = val_size, random_state = 10)\n",
        "\n",
        "# Nos guardamos los nombres de los atributos para más adelante\n",
        "feature_names = X_train.columns.values[:-1]\n",
        "\n",
        "print(\"Datos de entrenamiento:\\n\\tCantidad de ejemplos (filas): {}\\n\\tCantidad de atributos (columnas): {}\\n\".format(X_train.shape[0], X_train.shape[1]))\n",
        "print(\"Datos de validación:\\n\\tCantidad de ejemplos (filas): {}\\n\\tCantidad de atributos (columnas): {}\\n\".format(X_val.shape[0], X_val.shape[1]))\n",
        "print(\"Datos de test:\\n\\tCantidad de ejemplos (filas): {}\\n\\tCantidad de atributos (columnas): {}\".format(X_test.shape[0], X_test.shape[1]))"
      ]
    },
    {
      "cell_type": "code",
      "execution_count": null,
      "metadata": {
        "id": "fYbOHqp5OBho"
      },
      "outputs": [],
      "source": [
        "train_df = pd.concat([X_train.reset_index(drop=True), pd.DataFrame(y_train).reset_index(drop=True)], axis=1)\n",
        "val_df = pd.concat([X_val.reset_index(drop=True), pd.DataFrame(y_val).reset_index(drop=True)], axis=1)\n",
        "test_df = pd.concat([X_test.reset_index(drop=True), pd.DataFrame(y_test).reset_index(drop=True)], axis=1)"
      ]
    },
    {
      "cell_type": "markdown",
      "metadata": {
        "id": "8vUIE55YN1rk"
      },
      "source": [
        "# Desarrollo de un Árbol de Decisión"
      ]
    },
    {
      "cell_type": "code",
      "execution_count": null,
      "metadata": {
        "colab": {
          "base_uri": "https://localhost:8080/"
        },
        "id": "9bb4XDhCJiQI",
        "outputId": "5e9c7c63-7273-48a6-e928-39bfe49b1c53"
      },
      "outputs": [
        {
          "name": "stdout",
          "output_type": "stream",
          "text": [
            "Fitting 5 folds for each of 70 candidates, totalling 350 fits\n",
            "   criterion  max_depth  min_samples_leaf  Accuracy\n",
            "0       gini          4                 1  0.679782\n",
            "1       gini          4                 2  0.679531\n",
            "2       gini          4                 3  0.679531\n",
            "3       gini          4                 4  0.681035\n",
            "4       gini          4                 5  0.679783\n",
            "..       ...        ...               ...       ...\n",
            "65   entropy        256                 1  0.784014\n",
            "66   entropy        256                 2  0.778248\n",
            "67   entropy        256                 3  0.766724\n",
            "68   entropy        256                 4  0.760463\n",
            "69   entropy        256                 5  0.750691\n",
            "\n",
            "[70 rows x 4 columns]\n",
            "El mejor score obtenido es: 0.7910288863585748\n",
            "La combinación de parámetros es: {'criterion': 'gini', 'max_depth': 16, 'min_samples_leaf': 1}\n",
            "El peso de las clases es: {0: 1.2379032258064515, 1: 1.6882402707275803, 2: 0.49912456228114055, 3: 1.676890756302521}\n"
          ]
        }
      ],
      "source": [
        "# Creamos un árbol de decisión (AD)\n",
        "max_depth_range = [4, 8, 16, 32, 64, 128, 256]\n",
        "min_samples_leaf_range = [1, 2, 3, 4, 5]\n",
        "criterion_range = [\"gini\", \"entropy\"]\n",
        "class_weights = dict(enumerate(compute_class_weight(class_weight=\"balanced\", classes=np.unique(y_train), y=y_train)))\n",
        "\n",
        "tree_params = dict(\n",
        "  criterion: criterion_range,\n",
        "  max_depth: max_depth_range,\n",
        "  min_samples_leaf: min_samples_leaf_range\n",
        ")\n",
        "\n",
        "clf = GridSearchCV(DecisionTreeClassifier(class_weight = class_weights), tree_params, cv=5)\n",
        "\n",
        "# Se ajusta el AD con los datos de entrenamiento\n",
        "clf = clf.fit(X_train, y_train)\n",
        "\n",
        "param_grid = pd.concat([pd.DataFrame(clf.cv_results_[\"params\"]), pd.DataFrame(clf.cv_results_[\"mean_test_score\"], columns=[\"Accuracy\"])], axis=1)\n",
        "param_best = clf.best_params_\n",
        "score_best = clf.best_score_\n",
        "\n",
        "print(param_grid)\n",
        "print(f\"El mejor score obtenido es: {score_best}\")\n",
        "print(f\"La combinación de parámetros es: {param_best}\")\n",
        "print(f\"El peso de las clases es: {class_weights}\")"
      ]
    },
    {
      "cell_type": "code",
      "execution_count": null,
      "metadata": {
        "colab": {
          "base_uri": "https://localhost:8080/"
        },
        "id": "sO2dBDwKN-Gh",
        "outputId": "f7e6ef08-ee94-4263-d00e-c3dbf0c7a356"
      },
      "outputs": [
        {
          "name": "stdout",
          "output_type": "stream",
          "text": [
            "              precision    recall  f1-score   support\n",
            "\n",
            "         0.0       0.80      0.86      0.83       143\n",
            "         1.0       0.71      0.59      0.64       114\n",
            "         2.0       0.82      0.85      0.83       397\n",
            "         3.0       0.76      0.71      0.74       129\n",
            "\n",
            "    accuracy                           0.79       783\n",
            "   macro avg       0.77      0.75      0.76       783\n",
            "weighted avg       0.79      0.79      0.79       783\n",
            "\n"
          ]
        }
      ],
      "source": [
        "predictions = clf.predict(X_test)\n",
        "print(classification_report(y_test, predictions))"
      ]
    },
    {
      "cell_type": "markdown",
      "metadata": {
        "id": "Z9451MGvN53Z"
      },
      "source": [
        "# Desarrollo de una Red Neuronal Artificial"
      ]
    },
    {
      "cell_type": "code",
      "source": [
        "# Onehot encoder\n",
        "enc = OneHotEncoder()\n",
        "\n",
        "# El encoder define un mapeo para las etiquetas.\n",
        "y_train_enc = enc.fit_transform(y_train.reshape(-1, 1)).toarray()\n",
        "y_val_enc = enc.transform(y_val.reshape(-1, 1)).toarray() # Aquí usar transform.\n",
        "y_test_enc = enc.transform(y_test.reshape(-1, 1)).toarray() # Aquí usar transform."
      ],
      "metadata": {
        "id": "wm5XBXXnm5xi"
      },
      "execution_count": 12,
      "outputs": []
    },
    {
      "cell_type": "code",
      "execution_count": 13,
      "metadata": {
        "id": "VF_9y9vsoFLH"
      },
      "outputs": [],
      "source": [
        "num_features = X_train.shape[1]\n",
        "num_outputs = y_train_enc.shape[1]\n",
        "\n",
        "def define_model(neurons, hidden_layers, activation, learning_rate):\n",
        "    model = Sequential()\n",
        "\n",
        "    # Capa de entrada de la red\n",
        "    model.add(Input(shape=(num_features, )))\n",
        "\n",
        "    # Capas ocultas\n",
        "    for i in range(hidden_layers):\n",
        "      model.add(layers.Dense(neurons, activation = activation))\n",
        "\n",
        "    # Capa de salida de la red\n",
        "    model.add(layers.Dense(num_outputs, activation = \"softmax\"))\n",
        "\n",
        "    model.compile(optimizer = tf.keras.optimizers.Adam(learning_rate=learning_rate),\n",
        "                  loss = \"categorical_crossentropy\",\n",
        "                  metrics = [\"accuracy\"])\n",
        "    return model"
      ]
    },
    {
      "cell_type": "code",
      "source": [
        "neurons = 100\n",
        "hidden_layers = 5\n",
        "activation = \"silu\"\n",
        "learning_rate = 1e-3\n",
        "eps = 300\n",
        "bs = 16\n",
        "\n",
        "model = define_model(neurons, hidden_layers, activation, learning_rate)\n",
        "model.summary()"
      ],
      "metadata": {
        "colab": {
          "base_uri": "https://localhost:8080/",
          "height": 378
        },
        "id": "jjMi23zuSmK1",
        "outputId": "46584d4e-291b-4f51-cd10-82469a2c2cfb"
      },
      "execution_count": 18,
      "outputs": [
        {
          "output_type": "display_data",
          "data": {
            "text/plain": [
              "\u001b[1mModel: \"sequential_2\"\u001b[0m\n"
            ],
            "text/html": [
              "<pre style=\"white-space:pre;overflow-x:auto;line-height:normal;font-family:Menlo,'DejaVu Sans Mono',consolas,'Courier New',monospace\"><span style=\"font-weight: bold\">Model: \"sequential_2\"</span>\n",
              "</pre>\n"
            ]
          },
          "metadata": {}
        },
        {
          "output_type": "display_data",
          "data": {
            "text/plain": [
              "┏━━━━━━━━━━━━━━━━━━━━━━━━━━━━━━━━━━━━━━┳━━━━━━━━━━━━━━━━━━━━━━━━━━━━━┳━━━━━━━━━━━━━━━━━┓\n",
              "┃\u001b[1m \u001b[0m\u001b[1mLayer (type)                        \u001b[0m\u001b[1m \u001b[0m┃\u001b[1m \u001b[0m\u001b[1mOutput Shape               \u001b[0m\u001b[1m \u001b[0m┃\u001b[1m \u001b[0m\u001b[1m        Param #\u001b[0m\u001b[1m \u001b[0m┃\n",
              "┡━━━━━━━━━━━━━━━━━━━━━━━━━━━━━━━━━━━━━━╇━━━━━━━━━━━━━━━━━━━━━━━━━━━━━╇━━━━━━━━━━━━━━━━━┩\n",
              "│ dense_17 (\u001b[38;5;33mDense\u001b[0m)                     │ (\u001b[38;5;45mNone\u001b[0m, \u001b[38;5;34m100\u001b[0m)                 │           \u001b[38;5;34m1,700\u001b[0m │\n",
              "├──────────────────────────────────────┼─────────────────────────────┼─────────────────┤\n",
              "│ dense_18 (\u001b[38;5;33mDense\u001b[0m)                     │ (\u001b[38;5;45mNone\u001b[0m, \u001b[38;5;34m100\u001b[0m)                 │          \u001b[38;5;34m10,100\u001b[0m │\n",
              "├──────────────────────────────────────┼─────────────────────────────┼─────────────────┤\n",
              "│ dense_19 (\u001b[38;5;33mDense\u001b[0m)                     │ (\u001b[38;5;45mNone\u001b[0m, \u001b[38;5;34m100\u001b[0m)                 │          \u001b[38;5;34m10,100\u001b[0m │\n",
              "├──────────────────────────────────────┼─────────────────────────────┼─────────────────┤\n",
              "│ dense_20 (\u001b[38;5;33mDense\u001b[0m)                     │ (\u001b[38;5;45mNone\u001b[0m, \u001b[38;5;34m100\u001b[0m)                 │          \u001b[38;5;34m10,100\u001b[0m │\n",
              "├──────────────────────────────────────┼─────────────────────────────┼─────────────────┤\n",
              "│ dense_21 (\u001b[38;5;33mDense\u001b[0m)                     │ (\u001b[38;5;45mNone\u001b[0m, \u001b[38;5;34m100\u001b[0m)                 │          \u001b[38;5;34m10,100\u001b[0m │\n",
              "├──────────────────────────────────────┼─────────────────────────────┼─────────────────┤\n",
              "│ dense_22 (\u001b[38;5;33mDense\u001b[0m)                     │ (\u001b[38;5;45mNone\u001b[0m, \u001b[38;5;34m4\u001b[0m)                   │             \u001b[38;5;34m404\u001b[0m │\n",
              "└──────────────────────────────────────┴─────────────────────────────┴─────────────────┘\n"
            ],
            "text/html": [
              "<pre style=\"white-space:pre;overflow-x:auto;line-height:normal;font-family:Menlo,'DejaVu Sans Mono',consolas,'Courier New',monospace\">┏━━━━━━━━━━━━━━━━━━━━━━━━━━━━━━━━━━━━━━┳━━━━━━━━━━━━━━━━━━━━━━━━━━━━━┳━━━━━━━━━━━━━━━━━┓\n",
              "┃<span style=\"font-weight: bold\"> Layer (type)                         </span>┃<span style=\"font-weight: bold\"> Output Shape                </span>┃<span style=\"font-weight: bold\">         Param # </span>┃\n",
              "┡━━━━━━━━━━━━━━━━━━━━━━━━━━━━━━━━━━━━━━╇━━━━━━━━━━━━━━━━━━━━━━━━━━━━━╇━━━━━━━━━━━━━━━━━┩\n",
              "│ dense_17 (<span style=\"color: #0087ff; text-decoration-color: #0087ff\">Dense</span>)                     │ (<span style=\"color: #00d7ff; text-decoration-color: #00d7ff\">None</span>, <span style=\"color: #00af00; text-decoration-color: #00af00\">100</span>)                 │           <span style=\"color: #00af00; text-decoration-color: #00af00\">1,700</span> │\n",
              "├──────────────────────────────────────┼─────────────────────────────┼─────────────────┤\n",
              "│ dense_18 (<span style=\"color: #0087ff; text-decoration-color: #0087ff\">Dense</span>)                     │ (<span style=\"color: #00d7ff; text-decoration-color: #00d7ff\">None</span>, <span style=\"color: #00af00; text-decoration-color: #00af00\">100</span>)                 │          <span style=\"color: #00af00; text-decoration-color: #00af00\">10,100</span> │\n",
              "├──────────────────────────────────────┼─────────────────────────────┼─────────────────┤\n",
              "│ dense_19 (<span style=\"color: #0087ff; text-decoration-color: #0087ff\">Dense</span>)                     │ (<span style=\"color: #00d7ff; text-decoration-color: #00d7ff\">None</span>, <span style=\"color: #00af00; text-decoration-color: #00af00\">100</span>)                 │          <span style=\"color: #00af00; text-decoration-color: #00af00\">10,100</span> │\n",
              "├──────────────────────────────────────┼─────────────────────────────┼─────────────────┤\n",
              "│ dense_20 (<span style=\"color: #0087ff; text-decoration-color: #0087ff\">Dense</span>)                     │ (<span style=\"color: #00d7ff; text-decoration-color: #00d7ff\">None</span>, <span style=\"color: #00af00; text-decoration-color: #00af00\">100</span>)                 │          <span style=\"color: #00af00; text-decoration-color: #00af00\">10,100</span> │\n",
              "├──────────────────────────────────────┼─────────────────────────────┼─────────────────┤\n",
              "│ dense_21 (<span style=\"color: #0087ff; text-decoration-color: #0087ff\">Dense</span>)                     │ (<span style=\"color: #00d7ff; text-decoration-color: #00d7ff\">None</span>, <span style=\"color: #00af00; text-decoration-color: #00af00\">100</span>)                 │          <span style=\"color: #00af00; text-decoration-color: #00af00\">10,100</span> │\n",
              "├──────────────────────────────────────┼─────────────────────────────┼─────────────────┤\n",
              "│ dense_22 (<span style=\"color: #0087ff; text-decoration-color: #0087ff\">Dense</span>)                     │ (<span style=\"color: #00d7ff; text-decoration-color: #00d7ff\">None</span>, <span style=\"color: #00af00; text-decoration-color: #00af00\">4</span>)                   │             <span style=\"color: #00af00; text-decoration-color: #00af00\">404</span> │\n",
              "└──────────────────────────────────────┴─────────────────────────────┴─────────────────┘\n",
              "</pre>\n"
            ]
          },
          "metadata": {}
        },
        {
          "output_type": "display_data",
          "data": {
            "text/plain": [
              "\u001b[1m Total params: \u001b[0m\u001b[38;5;34m42,504\u001b[0m (166.03 KB)\n"
            ],
            "text/html": [
              "<pre style=\"white-space:pre;overflow-x:auto;line-height:normal;font-family:Menlo,'DejaVu Sans Mono',consolas,'Courier New',monospace\"><span style=\"font-weight: bold\"> Total params: </span><span style=\"color: #00af00; text-decoration-color: #00af00\">42,504</span> (166.03 KB)\n",
              "</pre>\n"
            ]
          },
          "metadata": {}
        },
        {
          "output_type": "display_data",
          "data": {
            "text/plain": [
              "\u001b[1m Trainable params: \u001b[0m\u001b[38;5;34m42,504\u001b[0m (166.03 KB)\n"
            ],
            "text/html": [
              "<pre style=\"white-space:pre;overflow-x:auto;line-height:normal;font-family:Menlo,'DejaVu Sans Mono',consolas,'Courier New',monospace\"><span style=\"font-weight: bold\"> Trainable params: </span><span style=\"color: #00af00; text-decoration-color: #00af00\">42,504</span> (166.03 KB)\n",
              "</pre>\n"
            ]
          },
          "metadata": {}
        },
        {
          "output_type": "display_data",
          "data": {
            "text/plain": [
              "\u001b[1m Non-trainable params: \u001b[0m\u001b[38;5;34m0\u001b[0m (0.00 B)\n"
            ],
            "text/html": [
              "<pre style=\"white-space:pre;overflow-x:auto;line-height:normal;font-family:Menlo,'DejaVu Sans Mono',consolas,'Courier New',monospace\"><span style=\"font-weight: bold\"> Non-trainable params: </span><span style=\"color: #00af00; text-decoration-color: #00af00\">0</span> (0.00 B)\n",
              "</pre>\n"
            ]
          },
          "metadata": {}
        }
      ]
    },
    {
      "cell_type": "code",
      "source": [
        "result = model.fit(X_train, y_train_enc, batch_size = bs, epochs = eps, validation_data=(X_val, y_val_enc))"
      ],
      "metadata": {
        "id": "8KhJI4DvuikH",
        "colab": {
          "base_uri": "https://localhost:8080/"
        },
        "outputId": "5b7a062d-4d03-4007-cda8-9146c25e991d"
      },
      "execution_count": null,
      "outputs": [
        {
          "output_type": "stream",
          "name": "stdout",
          "text": [
            "Epoch 1/300\n",
            "\u001b[1m250/250\u001b[0m \u001b[32m━━━━━━━━━━━━━━━━━━━━\u001b[0m\u001b[37m\u001b[0m \u001b[1m3s\u001b[0m 3ms/step - accuracy: 0.4190 - loss: 9.0602 - val_accuracy: 0.5923 - val_loss: 0.9543\n",
            "Epoch 2/300\n",
            "\u001b[1m250/250\u001b[0m \u001b[32m━━━━━━━━━━━━━━━━━━━━\u001b[0m\u001b[37m\u001b[0m \u001b[1m1s\u001b[0m 2ms/step - accuracy: 0.5526 - loss: 1.3104 - val_accuracy: 0.6554 - val_loss: 0.8858\n",
            "Epoch 3/300\n",
            "\u001b[1m250/250\u001b[0m \u001b[32m━━━━━━━━━━━━━━━━━━━━\u001b[0m\u001b[37m\u001b[0m \u001b[1m1s\u001b[0m 3ms/step - accuracy: 0.6287 - loss: 0.9514 - val_accuracy: 0.6644 - val_loss: 0.7449\n",
            "Epoch 4/300\n",
            "\u001b[1m250/250\u001b[0m \u001b[32m━━━━━━━━━━━━━━━━━━━━\u001b[0m\u001b[37m\u001b[0m \u001b[1m1s\u001b[0m 4ms/step - accuracy: 0.6400 - loss: 0.8536 - val_accuracy: 0.6284 - val_loss: 0.8312\n",
            "Epoch 5/300\n",
            "\u001b[1m250/250\u001b[0m \u001b[32m━━━━━━━━━━━━━━━━━━━━\u001b[0m\u001b[37m\u001b[0m \u001b[1m1s\u001b[0m 5ms/step - accuracy: 0.6511 - loss: 0.8165 - val_accuracy: 0.6622 - val_loss: 0.8111\n",
            "Epoch 6/300\n",
            "\u001b[1m250/250\u001b[0m \u001b[32m━━━━━━━━━━━━━━━━━━━━\u001b[0m\u001b[37m\u001b[0m \u001b[1m1s\u001b[0m 4ms/step - accuracy: 0.6783 - loss: 0.7558 - val_accuracy: 0.6059 - val_loss: 0.7705\n",
            "Epoch 7/300\n",
            "\u001b[1m250/250\u001b[0m \u001b[32m━━━━━━━━━━━━━━━━━━━━\u001b[0m\u001b[37m\u001b[0m \u001b[1m1s\u001b[0m 2ms/step - accuracy: 0.6835 - loss: 0.7459 - val_accuracy: 0.5833 - val_loss: 0.9600\n",
            "Epoch 8/300\n",
            "\u001b[1m250/250\u001b[0m \u001b[32m━━━━━━━━━━━━━━━━━━━━\u001b[0m\u001b[37m\u001b[0m \u001b[1m1s\u001b[0m 2ms/step - accuracy: 0.7000 - loss: 0.6992 - val_accuracy: 0.6554 - val_loss: 0.7949\n",
            "Epoch 9/300\n",
            "\u001b[1m250/250\u001b[0m \u001b[32m━━━━━━━━━━━━━━━━━━━━\u001b[0m\u001b[37m\u001b[0m \u001b[1m1s\u001b[0m 2ms/step - accuracy: 0.6961 - loss: 0.7157 - val_accuracy: 0.7275 - val_loss: 0.6597\n",
            "Epoch 10/300\n",
            "\u001b[1m250/250\u001b[0m \u001b[32m━━━━━━━━━━━━━━━━━━━━\u001b[0m\u001b[37m\u001b[0m \u001b[1m1s\u001b[0m 3ms/step - accuracy: 0.7076 - loss: 0.7148 - val_accuracy: 0.6351 - val_loss: 0.8175\n",
            "Epoch 11/300\n",
            "\u001b[1m250/250\u001b[0m \u001b[32m━━━━━━━━━━━━━━━━━━━━\u001b[0m\u001b[37m\u001b[0m \u001b[1m1s\u001b[0m 2ms/step - accuracy: 0.7251 - loss: 0.6956 - val_accuracy: 0.6149 - val_loss: 0.9000\n",
            "Epoch 12/300\n",
            "\u001b[1m250/250\u001b[0m \u001b[32m━━━━━━━━━━━━━━━━━━━━\u001b[0m\u001b[37m\u001b[0m \u001b[1m1s\u001b[0m 2ms/step - accuracy: 0.7020 - loss: 0.7229 - val_accuracy: 0.7477 - val_loss: 0.6919\n",
            "Epoch 13/300\n",
            "\u001b[1m250/250\u001b[0m \u001b[32m━━━━━━━━━━━━━━━━━━━━\u001b[0m\u001b[37m\u001b[0m \u001b[1m1s\u001b[0m 2ms/step - accuracy: 0.7172 - loss: 0.6866 - val_accuracy: 0.7230 - val_loss: 0.7105\n",
            "Epoch 14/300\n",
            "\u001b[1m250/250\u001b[0m \u001b[32m━━━━━━━━━━━━━━━━━━━━\u001b[0m\u001b[37m\u001b[0m \u001b[1m1s\u001b[0m 2ms/step - accuracy: 0.7279 - loss: 0.6775 - val_accuracy: 0.7387 - val_loss: 0.6035\n",
            "Epoch 15/300\n",
            "\u001b[1m250/250\u001b[0m \u001b[32m━━━━━━━━━━━━━━━━━━━━\u001b[0m\u001b[37m\u001b[0m \u001b[1m1s\u001b[0m 2ms/step - accuracy: 0.7144 - loss: 0.6736 - val_accuracy: 0.7275 - val_loss: 0.6286\n",
            "Epoch 16/300\n",
            "\u001b[1m250/250\u001b[0m \u001b[32m━━━━━━━━━━━━━━━━━━━━\u001b[0m\u001b[37m\u001b[0m \u001b[1m1s\u001b[0m 2ms/step - accuracy: 0.7335 - loss: 0.6331 - val_accuracy: 0.6734 - val_loss: 0.7025\n",
            "Epoch 17/300\n",
            "\u001b[1m250/250\u001b[0m \u001b[32m━━━━━━━━━━━━━━━━━━━━\u001b[0m\u001b[37m\u001b[0m \u001b[1m1s\u001b[0m 3ms/step - accuracy: 0.7308 - loss: 0.6460 - val_accuracy: 0.6689 - val_loss: 0.7354\n",
            "Epoch 18/300\n",
            "\u001b[1m250/250\u001b[0m \u001b[32m━━━━━━━━━━━━━━━━━━━━\u001b[0m\u001b[37m\u001b[0m \u001b[1m1s\u001b[0m 4ms/step - accuracy: 0.7280 - loss: 0.6483 - val_accuracy: 0.7410 - val_loss: 0.6222\n",
            "Epoch 19/300\n",
            "\u001b[1m250/250\u001b[0m \u001b[32m━━━━━━━━━━━━━━━━━━━━\u001b[0m\u001b[37m\u001b[0m \u001b[1m1s\u001b[0m 4ms/step - accuracy: 0.7248 - loss: 0.6391 - val_accuracy: 0.7072 - val_loss: 0.6701\n",
            "Epoch 20/300\n",
            "\u001b[1m250/250\u001b[0m \u001b[32m━━━━━━━━━━━━━━━━━━━━\u001b[0m\u001b[37m\u001b[0m \u001b[1m1s\u001b[0m 5ms/step - accuracy: 0.7403 - loss: 0.6225 - val_accuracy: 0.7342 - val_loss: 0.6093\n",
            "Epoch 21/300\n",
            "\u001b[1m250/250\u001b[0m \u001b[32m━━━━━━━━━━━━━━━━━━━━\u001b[0m\u001b[37m\u001b[0m \u001b[1m1s\u001b[0m 3ms/step - accuracy: 0.7206 - loss: 0.6522 - val_accuracy: 0.7477 - val_loss: 0.6200\n",
            "Epoch 22/300\n",
            "\u001b[1m250/250\u001b[0m \u001b[32m━━━━━━━━━━━━━━━━━━━━\u001b[0m\u001b[37m\u001b[0m \u001b[1m1s\u001b[0m 2ms/step - accuracy: 0.7307 - loss: 0.6375 - val_accuracy: 0.7500 - val_loss: 0.5572\n",
            "Epoch 23/300\n",
            "\u001b[1m250/250\u001b[0m \u001b[32m━━━━━━━━━━━━━━━━━━━━\u001b[0m\u001b[37m\u001b[0m \u001b[1m1s\u001b[0m 2ms/step - accuracy: 0.7472 - loss: 0.6036 - val_accuracy: 0.7230 - val_loss: 0.6391\n",
            "Epoch 24/300\n",
            "\u001b[1m250/250\u001b[0m \u001b[32m━━━━━━━━━━━━━━━━━━━━\u001b[0m\u001b[37m\u001b[0m \u001b[1m1s\u001b[0m 3ms/step - accuracy: 0.7616 - loss: 0.5931 - val_accuracy: 0.7680 - val_loss: 0.5496\n",
            "Epoch 25/300\n",
            "\u001b[1m250/250\u001b[0m \u001b[32m━━━━━━━━━━━━━━━━━━━━\u001b[0m\u001b[37m\u001b[0m \u001b[1m1s\u001b[0m 2ms/step - accuracy: 0.7482 - loss: 0.5877 - val_accuracy: 0.7568 - val_loss: 0.5751\n",
            "Epoch 26/300\n",
            "\u001b[1m250/250\u001b[0m \u001b[32m━━━━━━━━━━━━━━━━━━━━\u001b[0m\u001b[37m\u001b[0m \u001b[1m1s\u001b[0m 3ms/step - accuracy: 0.7522 - loss: 0.5802 - val_accuracy: 0.7050 - val_loss: 0.6189\n",
            "Epoch 27/300\n",
            "\u001b[1m250/250\u001b[0m \u001b[32m━━━━━━━━━━━━━━━━━━━━\u001b[0m\u001b[37m\u001b[0m \u001b[1m1s\u001b[0m 2ms/step - accuracy: 0.7574 - loss: 0.5802 - val_accuracy: 0.7613 - val_loss: 0.5195\n",
            "Epoch 28/300\n",
            "\u001b[1m250/250\u001b[0m \u001b[32m━━━━━━━━━━━━━━━━━━━━\u001b[0m\u001b[37m\u001b[0m \u001b[1m1s\u001b[0m 3ms/step - accuracy: 0.7592 - loss: 0.5832 - val_accuracy: 0.7117 - val_loss: 0.6495\n",
            "Epoch 29/300\n",
            "\u001b[1m250/250\u001b[0m \u001b[32m━━━━━━━━━━━━━━━━━━━━\u001b[0m\u001b[37m\u001b[0m \u001b[1m1s\u001b[0m 3ms/step - accuracy: 0.7522 - loss: 0.5775 - val_accuracy: 0.7545 - val_loss: 0.5581\n",
            "Epoch 30/300\n",
            "\u001b[1m250/250\u001b[0m \u001b[32m━━━━━━━━━━━━━━━━━━━━\u001b[0m\u001b[37m\u001b[0m \u001b[1m1s\u001b[0m 2ms/step - accuracy: 0.7664 - loss: 0.5415 - val_accuracy: 0.7342 - val_loss: 0.6293\n",
            "Epoch 31/300\n",
            "\u001b[1m250/250\u001b[0m \u001b[32m━━━━━━━━━━━━━━━━━━━━\u001b[0m\u001b[37m\u001b[0m \u001b[1m1s\u001b[0m 2ms/step - accuracy: 0.7456 - loss: 0.5866 - val_accuracy: 0.7455 - val_loss: 0.5759\n",
            "Epoch 32/300\n",
            "\u001b[1m250/250\u001b[0m \u001b[32m━━━━━━━━━━━━━━━━━━━━\u001b[0m\u001b[37m\u001b[0m \u001b[1m1s\u001b[0m 3ms/step - accuracy: 0.7796 - loss: 0.5266 - val_accuracy: 0.7005 - val_loss: 0.7130\n",
            "Epoch 33/300\n",
            "\u001b[1m250/250\u001b[0m \u001b[32m━━━━━━━━━━━━━━━━━━━━\u001b[0m\u001b[37m\u001b[0m \u001b[1m1s\u001b[0m 3ms/step - accuracy: 0.7799 - loss: 0.5059 - val_accuracy: 0.7883 - val_loss: 0.5015\n",
            "Epoch 34/300\n",
            "\u001b[1m250/250\u001b[0m \u001b[32m━━━━━━━━━━━━━━━━━━━━\u001b[0m\u001b[37m\u001b[0m \u001b[1m2s\u001b[0m 5ms/step - accuracy: 0.7848 - loss: 0.5258 - val_accuracy: 0.7950 - val_loss: 0.4856\n",
            "Epoch 35/300\n",
            "\u001b[1m250/250\u001b[0m \u001b[32m━━━━━━━━━━━━━━━━━━━━\u001b[0m\u001b[37m\u001b[0m \u001b[1m1s\u001b[0m 5ms/step - accuracy: 0.7766 - loss: 0.5269 - val_accuracy: 0.7905 - val_loss: 0.4816\n",
            "Epoch 36/300\n",
            "\u001b[1m250/250\u001b[0m \u001b[32m━━━━━━━━━━━━━━━━━━━━\u001b[0m\u001b[37m\u001b[0m \u001b[1m2s\u001b[0m 3ms/step - accuracy: 0.7910 - loss: 0.5123 - val_accuracy: 0.7995 - val_loss: 0.6211\n",
            "Epoch 37/300\n",
            "\u001b[1m250/250\u001b[0m \u001b[32m━━━━━━━━━━━━━━━━━━━━\u001b[0m\u001b[37m\u001b[0m \u001b[1m1s\u001b[0m 2ms/step - accuracy: 0.7930 - loss: 0.5058 - val_accuracy: 0.7703 - val_loss: 0.5155\n",
            "Epoch 38/300\n",
            "\u001b[1m250/250\u001b[0m \u001b[32m━━━━━━━━━━━━━━━━━━━━\u001b[0m\u001b[37m\u001b[0m \u001b[1m1s\u001b[0m 2ms/step - accuracy: 0.7883 - loss: 0.5020 - val_accuracy: 0.8086 - val_loss: 0.4719\n",
            "Epoch 39/300\n",
            "\u001b[1m250/250\u001b[0m \u001b[32m━━━━━━━━━━━━━━━━━━━━\u001b[0m\u001b[37m\u001b[0m \u001b[1m1s\u001b[0m 2ms/step - accuracy: 0.7974 - loss: 0.4832 - val_accuracy: 0.8108 - val_loss: 0.4669\n",
            "Epoch 40/300\n",
            "\u001b[1m250/250\u001b[0m \u001b[32m━━━━━━━━━━━━━━━━━━━━\u001b[0m\u001b[37m\u001b[0m \u001b[1m1s\u001b[0m 3ms/step - accuracy: 0.7974 - loss: 0.4665 - val_accuracy: 0.8176 - val_loss: 0.4161\n",
            "Epoch 41/300\n",
            "\u001b[1m250/250\u001b[0m \u001b[32m━━━━━━━━━━━━━━━━━━━━\u001b[0m\u001b[37m\u001b[0m \u001b[1m1s\u001b[0m 3ms/step - accuracy: 0.7914 - loss: 0.5033 - val_accuracy: 0.8356 - val_loss: 0.4180\n",
            "Epoch 42/300\n",
            "\u001b[1m250/250\u001b[0m \u001b[32m━━━━━━━━━━━━━━━━━━━━\u001b[0m\u001b[37m\u001b[0m \u001b[1m1s\u001b[0m 2ms/step - accuracy: 0.8025 - loss: 0.4517 - val_accuracy: 0.7883 - val_loss: 0.5000\n",
            "Epoch 43/300\n",
            "\u001b[1m250/250\u001b[0m \u001b[32m━━━━━━━━━━━━━━━━━━━━\u001b[0m\u001b[37m\u001b[0m \u001b[1m1s\u001b[0m 3ms/step - accuracy: 0.8115 - loss: 0.4411 - val_accuracy: 0.8086 - val_loss: 0.4456\n",
            "Epoch 44/300\n",
            "\u001b[1m250/250\u001b[0m \u001b[32m━━━━━━━━━━━━━━━━━━━━\u001b[0m\u001b[37m\u001b[0m \u001b[1m1s\u001b[0m 2ms/step - accuracy: 0.8042 - loss: 0.4648 - val_accuracy: 0.7973 - val_loss: 0.5016\n",
            "Epoch 45/300\n",
            "\u001b[1m250/250\u001b[0m \u001b[32m━━━━━━━━━━━━━━━━━━━━\u001b[0m\u001b[37m\u001b[0m \u001b[1m1s\u001b[0m 2ms/step - accuracy: 0.8142 - loss: 0.4393 - val_accuracy: 0.8086 - val_loss: 0.4290\n",
            "Epoch 46/300\n",
            "\u001b[1m250/250\u001b[0m \u001b[32m━━━━━━━━━━━━━━━━━━━━\u001b[0m\u001b[37m\u001b[0m \u001b[1m1s\u001b[0m 3ms/step - accuracy: 0.8252 - loss: 0.4390 - val_accuracy: 0.8266 - val_loss: 0.4242\n",
            "Epoch 47/300\n",
            "\u001b[1m250/250\u001b[0m \u001b[32m━━━━━━━━━━━━━━━━━━━━\u001b[0m\u001b[37m\u001b[0m \u001b[1m2s\u001b[0m 4ms/step - accuracy: 0.8393 - loss: 0.4056 - val_accuracy: 0.8176 - val_loss: 0.4146\n",
            "Epoch 48/300\n",
            "\u001b[1m250/250\u001b[0m \u001b[32m━━━━━━━━━━━━━━━━━━━━\u001b[0m\u001b[37m\u001b[0m \u001b[1m1s\u001b[0m 5ms/step - accuracy: 0.8367 - loss: 0.3839 - val_accuracy: 0.8131 - val_loss: 0.4157\n",
            "Epoch 49/300\n",
            "\u001b[1m250/250\u001b[0m \u001b[32m━━━━━━━━━━━━━━━━━━━━\u001b[0m\u001b[37m\u001b[0m \u001b[1m1s\u001b[0m 4ms/step - accuracy: 0.8323 - loss: 0.3864 - val_accuracy: 0.8198 - val_loss: 0.4291\n",
            "Epoch 50/300\n",
            "\u001b[1m250/250\u001b[0m \u001b[32m━━━━━━━━━━━━━━━━━━━━\u001b[0m\u001b[37m\u001b[0m \u001b[1m1s\u001b[0m 2ms/step - accuracy: 0.8333 - loss: 0.3990 - val_accuracy: 0.8333 - val_loss: 0.4068\n",
            "Epoch 51/300\n",
            "\u001b[1m250/250\u001b[0m \u001b[32m━━━━━━━━━━━━━━━━━━━━\u001b[0m\u001b[37m\u001b[0m \u001b[1m1s\u001b[0m 2ms/step - accuracy: 0.8362 - loss: 0.3921 - val_accuracy: 0.8153 - val_loss: 0.4450\n",
            "Epoch 52/300\n",
            "\u001b[1m250/250\u001b[0m \u001b[32m━━━━━━━━━━━━━━━━━━━━\u001b[0m\u001b[37m\u001b[0m \u001b[1m1s\u001b[0m 2ms/step - accuracy: 0.8521 - loss: 0.3552 - val_accuracy: 0.8378 - val_loss: 0.3995\n",
            "Epoch 53/300\n",
            "\u001b[1m250/250\u001b[0m \u001b[32m━━━━━━━━━━━━━━━━━━━━\u001b[0m\u001b[37m\u001b[0m \u001b[1m1s\u001b[0m 3ms/step - accuracy: 0.8405 - loss: 0.3931 - val_accuracy: 0.8176 - val_loss: 0.3977\n",
            "Epoch 54/300\n",
            "\u001b[1m250/250\u001b[0m \u001b[32m━━━━━━━━━━━━━━━━━━━━\u001b[0m\u001b[37m\u001b[0m \u001b[1m1s\u001b[0m 2ms/step - accuracy: 0.8296 - loss: 0.3950 - val_accuracy: 0.8131 - val_loss: 0.4809\n",
            "Epoch 55/300\n",
            "\u001b[1m250/250\u001b[0m \u001b[32m━━━━━━━━━━━━━━━━━━━━\u001b[0m\u001b[37m\u001b[0m \u001b[1m1s\u001b[0m 3ms/step - accuracy: 0.8556 - loss: 0.3622 - val_accuracy: 0.7477 - val_loss: 0.5514\n",
            "Epoch 56/300\n",
            "\u001b[1m250/250\u001b[0m \u001b[32m━━━━━━━━━━━━━━━━━━━━\u001b[0m\u001b[37m\u001b[0m \u001b[1m1s\u001b[0m 2ms/step - accuracy: 0.8147 - loss: 0.4056 - val_accuracy: 0.8333 - val_loss: 0.4057\n",
            "Epoch 57/300\n",
            "\u001b[1m250/250\u001b[0m \u001b[32m━━━━━━━━━━━━━━━━━━━━\u001b[0m\u001b[37m\u001b[0m \u001b[1m1s\u001b[0m 3ms/step - accuracy: 0.8527 - loss: 0.3470 - val_accuracy: 0.8333 - val_loss: 0.3994\n",
            "Epoch 58/300\n",
            "\u001b[1m250/250\u001b[0m \u001b[32m━━━━━━━━━━━━━━━━━━━━\u001b[0m\u001b[37m\u001b[0m \u001b[1m1s\u001b[0m 2ms/step - accuracy: 0.8580 - loss: 0.3489 - val_accuracy: 0.7905 - val_loss: 0.5349\n",
            "Epoch 59/300\n",
            "\u001b[1m250/250\u001b[0m \u001b[32m━━━━━━━━━━━━━━━━━━━━\u001b[0m\u001b[37m\u001b[0m \u001b[1m1s\u001b[0m 3ms/step - accuracy: 0.8355 - loss: 0.3903 - val_accuracy: 0.8468 - val_loss: 0.3850\n",
            "Epoch 60/300\n",
            "\u001b[1m250/250\u001b[0m \u001b[32m━━━━━━━━━━━━━━━━━━━━\u001b[0m\u001b[37m\u001b[0m \u001b[1m1s\u001b[0m 3ms/step - accuracy: 0.8516 - loss: 0.3798 - val_accuracy: 0.8378 - val_loss: 0.3544\n",
            "Epoch 61/300\n",
            "\u001b[1m250/250\u001b[0m \u001b[32m━━━━━━━━━━━━━━━━━━━━\u001b[0m\u001b[37m\u001b[0m \u001b[1m2s\u001b[0m 4ms/step - accuracy: 0.8569 - loss: 0.3403 - val_accuracy: 0.7905 - val_loss: 0.4705\n",
            "Epoch 62/300\n",
            "\u001b[1m250/250\u001b[0m \u001b[32m━━━━━━━━━━━━━━━━━━━━\u001b[0m\u001b[37m\u001b[0m \u001b[1m1s\u001b[0m 5ms/step - accuracy: 0.8254 - loss: 0.4213 - val_accuracy: 0.8491 - val_loss: 0.3599\n",
            "Epoch 63/300\n",
            "\u001b[1m250/250\u001b[0m \u001b[32m━━━━━━━━━━━━━━━━━━━━\u001b[0m\u001b[37m\u001b[0m \u001b[1m1s\u001b[0m 3ms/step - accuracy: 0.8571 - loss: 0.3524 - val_accuracy: 0.8491 - val_loss: 0.3605\n",
            "Epoch 64/300\n",
            "\u001b[1m250/250\u001b[0m \u001b[32m━━━━━━━━━━━━━━━━━━━━\u001b[0m\u001b[37m\u001b[0m \u001b[1m1s\u001b[0m 3ms/step - accuracy: 0.8691 - loss: 0.3099 - val_accuracy: 0.8018 - val_loss: 0.4387\n",
            "Epoch 65/300\n",
            "\u001b[1m250/250\u001b[0m \u001b[32m━━━━━━━━━━━━━━━━━━━━\u001b[0m\u001b[37m\u001b[0m \u001b[1m1s\u001b[0m 2ms/step - accuracy: 0.8685 - loss: 0.3304 - val_accuracy: 0.8446 - val_loss: 0.3785\n",
            "Epoch 66/300\n",
            "\u001b[1m250/250\u001b[0m \u001b[32m━━━━━━━━━━━━━━━━━━━━\u001b[0m\u001b[37m\u001b[0m \u001b[1m1s\u001b[0m 3ms/step - accuracy: 0.8669 - loss: 0.3248 - val_accuracy: 0.8423 - val_loss: 0.4048\n",
            "Epoch 67/300\n",
            "\u001b[1m250/250\u001b[0m \u001b[32m━━━━━━━━━━━━━━━━━━━━\u001b[0m\u001b[37m\u001b[0m \u001b[1m1s\u001b[0m 2ms/step - accuracy: 0.8638 - loss: 0.3111 - val_accuracy: 0.8761 - val_loss: 0.2977\n",
            "Epoch 68/300\n",
            "\u001b[1m250/250\u001b[0m \u001b[32m━━━━━━━━━━━━━━━━━━━━\u001b[0m\u001b[37m\u001b[0m \u001b[1m1s\u001b[0m 2ms/step - accuracy: 0.8586 - loss: 0.3282 - val_accuracy: 0.8288 - val_loss: 0.3520\n",
            "Epoch 69/300\n",
            "\u001b[1m250/250\u001b[0m \u001b[32m━━━━━━━━━━━━━━━━━━━━\u001b[0m\u001b[37m\u001b[0m \u001b[1m1s\u001b[0m 3ms/step - accuracy: 0.8837 - loss: 0.2803 - val_accuracy: 0.8356 - val_loss: 0.3328\n",
            "Epoch 70/300\n",
            "\u001b[1m250/250\u001b[0m \u001b[32m━━━━━━━━━━━━━━━━━━━━\u001b[0m\u001b[37m\u001b[0m \u001b[1m1s\u001b[0m 3ms/step - accuracy: 0.8685 - loss: 0.3224 - val_accuracy: 0.8514 - val_loss: 0.3491\n",
            "Epoch 71/300\n",
            "\u001b[1m250/250\u001b[0m \u001b[32m━━━━━━━━━━━━━━━━━━━━\u001b[0m\u001b[37m\u001b[0m \u001b[1m1s\u001b[0m 2ms/step - accuracy: 0.8579 - loss: 0.3259 - val_accuracy: 0.8536 - val_loss: 0.3259\n",
            "Epoch 72/300\n",
            "\u001b[1m250/250\u001b[0m \u001b[32m━━━━━━━━━━━━━━━━━━━━\u001b[0m\u001b[37m\u001b[0m \u001b[1m1s\u001b[0m 2ms/step - accuracy: 0.8785 - loss: 0.2916 - val_accuracy: 0.8243 - val_loss: 0.4412\n",
            "Epoch 73/300\n",
            "\u001b[1m250/250\u001b[0m \u001b[32m━━━━━━━━━━━━━━━━━━━━\u001b[0m\u001b[37m\u001b[0m \u001b[1m1s\u001b[0m 3ms/step - accuracy: 0.8744 - loss: 0.3096 - val_accuracy: 0.7770 - val_loss: 0.5347\n",
            "Epoch 74/300\n",
            "\u001b[1m250/250\u001b[0m \u001b[32m━━━━━━━━━━━━━━━━━━━━\u001b[0m\u001b[37m\u001b[0m \u001b[1m1s\u001b[0m 3ms/step - accuracy: 0.8864 - loss: 0.2915 - val_accuracy: 0.8266 - val_loss: 0.4136\n",
            "Epoch 75/300\n",
            "\u001b[1m250/250\u001b[0m \u001b[32m━━━━━━━━━━━━━━━━━━━━\u001b[0m\u001b[37m\u001b[0m \u001b[1m1s\u001b[0m 4ms/step - accuracy: 0.8664 - loss: 0.3196 - val_accuracy: 0.8514 - val_loss: 0.3233\n",
            "Epoch 76/300\n",
            "\u001b[1m250/250\u001b[0m \u001b[32m━━━━━━━━━━━━━━━━━━━━\u001b[0m\u001b[37m\u001b[0m \u001b[1m1s\u001b[0m 5ms/step - accuracy: 0.8706 - loss: 0.2899 - val_accuracy: 0.8423 - val_loss: 0.3605\n",
            "Epoch 77/300\n",
            "\u001b[1m250/250\u001b[0m \u001b[32m━━━━━━━━━━━━━━━━━━━━\u001b[0m\u001b[37m\u001b[0m \u001b[1m1s\u001b[0m 3ms/step - accuracy: 0.8690 - loss: 0.3015 - val_accuracy: 0.8423 - val_loss: 0.3626\n",
            "Epoch 78/300\n",
            "\u001b[1m250/250\u001b[0m \u001b[32m━━━━━━━━━━━━━━━━━━━━\u001b[0m\u001b[37m\u001b[0m \u001b[1m1s\u001b[0m 2ms/step - accuracy: 0.8815 - loss: 0.2903 - val_accuracy: 0.8491 - val_loss: 0.3504\n",
            "Epoch 79/300\n",
            "\u001b[1m250/250\u001b[0m \u001b[32m━━━━━━━━━━━━━━━━━━━━\u001b[0m\u001b[37m\u001b[0m \u001b[1m1s\u001b[0m 3ms/step - accuracy: 0.8818 - loss: 0.2824 - val_accuracy: 0.7455 - val_loss: 0.5372\n",
            "Epoch 80/300\n",
            "\u001b[1m250/250\u001b[0m \u001b[32m━━━━━━━━━━━━━━━━━━━━\u001b[0m\u001b[37m\u001b[0m \u001b[1m1s\u001b[0m 3ms/step - accuracy: 0.8489 - loss: 0.3613 - val_accuracy: 0.8559 - val_loss: 0.3214\n",
            "Epoch 81/300\n",
            "\u001b[1m250/250\u001b[0m \u001b[32m━━━━━━━━━━━━━━━━━━━━\u001b[0m\u001b[37m\u001b[0m \u001b[1m1s\u001b[0m 2ms/step - accuracy: 0.8902 - loss: 0.2591 - val_accuracy: 0.8356 - val_loss: 0.3794\n",
            "Epoch 82/300\n",
            "\u001b[1m250/250\u001b[0m \u001b[32m━━━━━━━━━━━━━━━━━━━━\u001b[0m\u001b[37m\u001b[0m \u001b[1m1s\u001b[0m 3ms/step - accuracy: 0.8766 - loss: 0.2785 - val_accuracy: 0.8378 - val_loss: 0.3989\n",
            "Epoch 83/300\n",
            "\u001b[1m250/250\u001b[0m \u001b[32m━━━━━━━━━━━━━━━━━━━━\u001b[0m\u001b[37m\u001b[0m \u001b[1m1s\u001b[0m 3ms/step - accuracy: 0.8737 - loss: 0.2980 - val_accuracy: 0.8761 - val_loss: 0.3108\n",
            "Epoch 84/300\n",
            "\u001b[1m250/250\u001b[0m \u001b[32m━━━━━━━━━━━━━━━━━━━━\u001b[0m\u001b[37m\u001b[0m \u001b[1m1s\u001b[0m 3ms/step - accuracy: 0.8987 - loss: 0.2609 - val_accuracy: 0.8491 - val_loss: 0.3724\n",
            "Epoch 85/300\n",
            "\u001b[1m250/250\u001b[0m \u001b[32m━━━━━━━━━━━━━━━━━━━━\u001b[0m\u001b[37m\u001b[0m \u001b[1m1s\u001b[0m 2ms/step - accuracy: 0.8989 - loss: 0.2521 - val_accuracy: 0.8266 - val_loss: 0.3486\n",
            "Epoch 86/300\n",
            "\u001b[1m250/250\u001b[0m \u001b[32m━━━━━━━━━━━━━━━━━━━━\u001b[0m\u001b[37m\u001b[0m \u001b[1m1s\u001b[0m 2ms/step - accuracy: 0.8669 - loss: 0.3131 - val_accuracy: 0.8491 - val_loss: 0.3288\n",
            "Epoch 87/300\n",
            "\u001b[1m250/250\u001b[0m \u001b[32m━━━━━━━━━━━━━━━━━━━━\u001b[0m\u001b[37m\u001b[0m \u001b[1m1s\u001b[0m 3ms/step - accuracy: 0.8798 - loss: 0.2865 - val_accuracy: 0.8649 - val_loss: 0.3136\n",
            "Epoch 88/300\n",
            "\u001b[1m250/250\u001b[0m \u001b[32m━━━━━━━━━━━━━━━━━━━━\u001b[0m\u001b[37m\u001b[0m \u001b[1m2s\u001b[0m 5ms/step - accuracy: 0.8991 - loss: 0.2486 - val_accuracy: 0.8491 - val_loss: 0.3347\n",
            "Epoch 89/300\n",
            "\u001b[1m250/250\u001b[0m \u001b[32m━━━━━━━━━━━━━━━━━━━━\u001b[0m\u001b[37m\u001b[0m \u001b[1m1s\u001b[0m 5ms/step - accuracy: 0.8786 - loss: 0.2766 - val_accuracy: 0.8378 - val_loss: 0.3522\n",
            "Epoch 90/300\n",
            "\u001b[1m250/250\u001b[0m \u001b[32m━━━━━━━━━━━━━━━━━━━━\u001b[0m\u001b[37m\u001b[0m \u001b[1m1s\u001b[0m 3ms/step - accuracy: 0.8927 - loss: 0.2641 - val_accuracy: 0.8468 - val_loss: 0.3936\n",
            "Epoch 91/300\n",
            "\u001b[1m250/250\u001b[0m \u001b[32m━━━━━━━━━━━━━━━━━━━━\u001b[0m\u001b[37m\u001b[0m \u001b[1m1s\u001b[0m 2ms/step - accuracy: 0.8728 - loss: 0.3073 - val_accuracy: 0.8536 - val_loss: 0.3304\n",
            "Epoch 92/300\n",
            "\u001b[1m250/250\u001b[0m \u001b[32m━━━━━━━━━━━━━━━━━━━━\u001b[0m\u001b[37m\u001b[0m \u001b[1m1s\u001b[0m 2ms/step - accuracy: 0.8967 - loss: 0.2391 - val_accuracy: 0.8581 - val_loss: 0.3134\n",
            "Epoch 93/300\n",
            "\u001b[1m250/250\u001b[0m \u001b[32m━━━━━━━━━━━━━━━━━━━━\u001b[0m\u001b[37m\u001b[0m \u001b[1m1s\u001b[0m 2ms/step - accuracy: 0.8858 - loss: 0.2648 - val_accuracy: 0.8716 - val_loss: 0.2920\n",
            "Epoch 94/300\n",
            "\u001b[1m250/250\u001b[0m \u001b[32m━━━━━━━━━━━━━━━━━━━━\u001b[0m\u001b[37m\u001b[0m \u001b[1m1s\u001b[0m 2ms/step - accuracy: 0.9031 - loss: 0.2315 - val_accuracy: 0.8401 - val_loss: 0.3676\n",
            "Epoch 95/300\n",
            "\u001b[1m184/250\u001b[0m \u001b[32m━━━━━━━━━━━━━━\u001b[0m\u001b[37m━━━━━━\u001b[0m \u001b[1m0s\u001b[0m 2ms/step - accuracy: 0.8576 - loss: 0.3315"
          ]
        }
      ]
    },
    {
      "cell_type": "code",
      "execution_count": null,
      "metadata": {
        "colab": {
          "base_uri": "https://localhost:8080/",
          "height": 407
        },
        "id": "hap5gsvpzSQK",
        "outputId": "3b65413a-f02d-413b-8977-f487142c9efb"
      },
      "outputs": [
        {
          "data": {
            "image/png": "[encoded data removed]",
            "text/plain": [
              "<Figure size 1000x400 with 2 Axes>"
            ]
          },
          "metadata": {},
          "output_type": "display_data"
        }
      ],
      "source": [
        "fig, (ax1, ax2) = plt.subplots(1, 2, figsize=(10, 4))\n",
        "\n",
        "# Error\n",
        "ax1.plot(result.history['loss'], label='Entrenamiento')\n",
        "ax1.plot(result.history['val_loss'], label='Validación')\n",
        "ax1.set_title('Error')\n",
        "ax1.set_xlabel('Epoch')\n",
        "ax1.set_ylabel('Error')\n",
        "ax1.legend()\n",
        "\n",
        "# Accuracy\n",
        "ax2.plot(result.history['accuracy'], label='Entrenamiento')\n",
        "ax2.plot(result.history['val_accuracy'], label='Validación')\n",
        "ax2.set_title('Accuracy')\n",
        "ax2.set_xlabel('Epoch')\n",
        "ax2.set_ylabel('Accuracy')\n",
        "ax2.legend()\n",
        "\n",
        "plt.tight_layout()\n",
        "plt.show()"
      ]
    }
  ],
  "metadata": {
    "colab": {
      "provenance": [],
      "include_colab_link": true
    },
    "kernelspec": {
      "display_name": "Python 3",
      "name": "python3"
    },
    "language_info": {
      "name": "python"
    }
  },
  "nbformat": 4,
  "nbformat_minor": 0
}
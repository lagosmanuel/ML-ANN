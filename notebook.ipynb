{
  "nbformat": 4,
  "nbformat_minor": 0,
  "metadata": {
    "colab": {
      "provenance": []
    },
    "kernelspec": {
      "name": "python3",
      "display_name": "Python 3"
    },
    "language_info": {
      "name": "python"
    }
  },
  "cells": [
    {
      "cell_type": "markdown",
      "source": [
        "# Proyecto 2 - Inteligencia Artificial 2024 🤖\n",
        "\n",
        "### Comisión NRO - NOMBRES DE LOS INTEGRANTES\n",
        "\n",
        "\n",
        "---\n",
        "\n"
      ],
      "metadata": {
        "id": "_MTaBZ9LN-tk"
      }
    },
    {
      "cell_type": "markdown",
      "source": [
        "# Carga y análisis de datos"
      ],
      "metadata": {
        "id": "L3DdJ_74Nv_1"
      }
    },
    {
      "cell_type": "code",
      "execution_count": null,
      "metadata": {
        "id": "3p1gYBLSNq91"
      },
      "outputs": [],
      "source": []
    },
    {
      "cell_type": "markdown",
      "source": [
        "# Procesamiento de los datos"
      ],
      "metadata": {
        "id": "0Rq4YPbmNy25"
      }
    },
    {
      "cell_type": "code",
      "source": [],
      "metadata": {
        "id": "NZHwsQ1PN1i3"
      },
      "execution_count": null,
      "outputs": []
    },
    {
      "cell_type": "markdown",
      "source": [
        "# Desarrollo de un Árbol de Decisión"
      ],
      "metadata": {
        "id": "8vUIE55YN1rk"
      }
    },
    {
      "cell_type": "code",
      "source": [],
      "metadata": {
        "id": "sQxkXS7_N5sb"
      },
      "execution_count": null,
      "outputs": []
    },
    {
      "cell_type": "markdown",
      "source": [
        "# Desarrollo de una Red Neuronal Artificial"
      ],
      "metadata": {
        "id": "Z9451MGvN53Z"
      }
    },
    {
      "cell_type": "code",
      "source": [],
      "metadata": {
        "id": "sO2dBDwKN-Gh"
      },
      "execution_count": null,
      "outputs": []
    }
  ]
}